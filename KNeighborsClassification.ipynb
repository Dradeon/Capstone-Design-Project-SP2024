{
 "cells": [
  {
   "cell_type": "markdown",
   "metadata": {},
   "source": [
    "# Imports and Data Setup"
   ]
  },
  {
   "cell_type": "code",
   "execution_count": null,
   "metadata": {},
   "outputs": [],
   "source": [
    "import pandas as pd\n",
    "import numpy as np\n",
    "import matplotlib.pyplot as plt\n",
    "from sklearn.neighbors import KNeighborsClassifier\n",
    "from sklearn.cluster import DBSCAN\n",
    "from sklearn.model_selection import train_test_split, cross_val_score\n",
    "\n"
   ]
  },
  {
   "cell_type": "code",
   "execution_count": null,
   "metadata": {},
   "outputs": [],
   "source": [
    "colors = {\n",
    "    'NORMAL': 'green',\n",
    "    'TORQUE DEFECT PHASE B': 'red',\n",
    "    'TORQUE DEFECT CONECTOR TERMINALS': 'purple'\n",
    "}\n",
    "colorsList = [colors.get(status[0]) for status in run_13[['CLASSIFICATION']].to_numpy().tolist()]\n",
    "plt.scatter(run_13[['zigbee:21_zd_Temp']],run_13[['zigbee:24_zd_IA']],color=colorsList)\n",
    "plt.xlabel('Temperature (C)')\n",
    "plt.ylabel('Current (A)')\n",
    "plt.show()"
   ]
  }
 ],
 "metadata": {
  "language_info": {
   "name": "python"
  }
 },
 "nbformat": 4,
 "nbformat_minor": 2
}

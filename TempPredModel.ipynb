{
 "cells": [
  {
   "cell_type": "markdown",
   "metadata": {},
   "source": [
    "# Setup"
   ]
  },
  {
   "cell_type": "code",
   "execution_count": 1,
   "metadata": {},
   "outputs": [],
   "source": [
    "import pandas as pd\n",
    "import numpy as np\n",
    "import matplotlib.pyplot as plt\n",
    "from sklearn.ensemble import GradientBoostingRegressor\n",
    "from sklearn.metrics import mean_squared_error\n",
    "from sklearn.model_selection import train_test_split, cross_val_score\n",
    "import seaborn as sns\n",
    "\n",
    "# Import Data\n",
    "df_RUN_13 = pd.read_excel('test_data/RUN_13_TO_15_CLEANED.xlsx', sheet_name='Run 13')\n",
    "df_RUN_15 = pd.read_excel('test_data/RUN_13_TO_15_CLEANED.xlsx', sheet_name='Run 15')\n",
    "df_RUN_19 = pd.read_excel('test_data/RUN_19_TO_21_CLEANED.xlsx', sheet_name='Run 19')\n",
    "df_RUN_20 = pd.read_excel('test_data/RUN_19_TO_21_CLEANED.xlsx',sheet_name='Run 20')\n",
    "df_RUN_21 = pd.read_excel('test_data/RUN_19_TO_21_CLEANED.xlsx',sheet_name='Run 21')\n",
    "\n",
    "# Clean up Data removing headers from data \n",
    "df_RUN_13 = df_RUN_13[3:]\n",
    "df_RUN_15 = df_RUN_15[3:]\n",
    "df_RUN_19 = df_RUN_19[3:]\n",
    "df_RUN_20 = df_RUN_20[3:]\n",
    "df_RUN_21 = df_RUN_21[3:]\n",
    "\n"
   ]
  },
  {
   "cell_type": "markdown",
   "metadata": {},
   "source": [
    "# Run 13"
   ]
  },
  {
   "cell_type": "code",
   "execution_count": 3,
   "metadata": {},
   "outputs": [
    {
     "name": "stdout",
     "output_type": "stream",
     "text": [
      "The mean squared error (MSE) on test set: 0.0182\n"
     ]
    },
    {
     "name": "stderr",
     "output_type": "stream",
     "text": [
      "C:\\Users\\reza4\\AppData\\Local\\Packages\\PythonSoftwareFoundation.Python.3.9_qbz5n2kfra8p0\\LocalCache\\local-packages\\Python39\\site-packages\\sklearn\\ensemble\\_gb.py:437: DataConversionWarning: A column-vector y was passed when a 1d array was expected. Please change the shape of y to (n_samples, ), for example using ravel().\n",
      "  y = column_or_1d(y, warn=True)\n"
     ]
    }
   ],
   "source": [
    "# Gradient Boosting Regression\n",
    "def func(t):\n",
    "    return t.total_seconds()/60\n",
    "\n",
    "df_RUN_13['time_delta'] = df_RUN_13['Element ID'].apply(lambda x: x-df_RUN_13['Element ID'].min())\n",
    "df_RUN_13['time_delta'] = df_RUN_13['time_delta'].map(func)\n",
    "\n",
    "X_train, X_test, Y_train, Y_test = train_test_split(df_RUN_13[['time_delta']], df_RUN_13[['zigbee:21_zd_Temp']], test_size=0.2)\n",
    "GBR_13 = GradientBoostingRegressor(random_state=0)\n",
    "GBR_13.fit(X_train, Y_train)\n",
    "\n",
    "Y_pred_13 = GBR_13.predict(X_test)\n",
    "mse = mean_squared_error(Y_test, Y_pred_13)\n",
    "print(\"The mean squared error (MSE) on test set: {:.4f}\".format(mse))\n",
    "\n",
    "# Neural Network"
   ]
  },
  {
   "cell_type": "markdown",
   "metadata": {},
   "source": [
    "# Run 15"
   ]
  },
  {
   "cell_type": "code",
   "execution_count": 3,
   "metadata": {},
   "outputs": [
    {
     "name": "stdout",
     "output_type": "stream",
     "text": [
      "The mean squared error (MSE) on test set: 0.0188\n"
     ]
    },
    {
     "name": "stderr",
     "output_type": "stream",
     "text": [
      "C:\\Users\\reza4\\AppData\\Local\\Packages\\PythonSoftwareFoundation.Python.3.9_qbz5n2kfra8p0\\LocalCache\\local-packages\\Python39\\site-packages\\sklearn\\ensemble\\_gb.py:437: DataConversionWarning: A column-vector y was passed when a 1d array was expected. Please change the shape of y to (n_samples, ), for example using ravel().\n",
      "  y = column_or_1d(y, warn=True)\n"
     ]
    }
   ],
   "source": [
    "# Gradient Boosting Regression\n",
    "def func(t):\n",
    "    return t.total_seconds()/60\n",
    "\n",
    "df_RUN_15['time_delta'] = df_RUN_15['Element ID'].apply(lambda x: x-df_RUN_15['Element ID'].min())\n",
    "df_RUN_15['time_delta'] = df_RUN_15['time_delta'].map(func)\n",
    "\n",
    "X_train, X_test, Y_train, Y_test = train_test_split(df_RUN_15[['time_delta']], df_RUN_15[['zigbee:21_zd_Temp']], test_size=0.2)\n",
    "GBR_15 = GradientBoostingRegressor(random_state=0)\n",
    "GBR_15.fit(X_train, Y_train)\n",
    "\n",
    "Y_pred_15 = GBR_15.predict(X_test)\n",
    "mse = mean_squared_error(Y_test, Y_pred_15)\n",
    "print(\"The mean squared error (MSE) on test set: {:.4f}\".format(mse))\n",
    "\n",
    "# Neural Network"
   ]
  },
  {
   "cell_type": "markdown",
   "metadata": {},
   "source": [
    "# Run 19"
   ]
  },
  {
   "cell_type": "code",
   "execution_count": 4,
   "metadata": {},
   "outputs": [
    {
     "name": "stderr",
     "output_type": "stream",
     "text": [
      "C:\\Users\\reza4\\AppData\\Local\\Packages\\PythonSoftwareFoundation.Python.3.9_qbz5n2kfra8p0\\LocalCache\\local-packages\\Python39\\site-packages\\sklearn\\ensemble\\_gb.py:437: DataConversionWarning: A column-vector y was passed when a 1d array was expected. Please change the shape of y to (n_samples, ), for example using ravel().\n",
      "  y = column_or_1d(y, warn=True)\n"
     ]
    },
    {
     "name": "stdout",
     "output_type": "stream",
     "text": [
      "The mean squared error (MSE) on test set: 0.0208\n"
     ]
    }
   ],
   "source": [
    "# Gradient Boosting Regression\n",
    "def func(t):\n",
    "    return t.total_seconds()/60\n",
    "\n",
    "df_RUN_19['time_delta'] = df_RUN_19['Element ID'].apply(lambda x: x-df_RUN_19['Element ID'].min())\n",
    "df_RUN_19['time_delta'] = df_RUN_19['time_delta'].map(func)\n",
    "\n",
    "X_train, X_test, Y_train, Y_test = train_test_split(df_RUN_19[['time_delta']], df_RUN_19[['zigbee:21_zd_Temp']], test_size=0.2)\n",
    "GBR_19 = GradientBoostingRegressor(random_state=0)\n",
    "GBR_19.fit(X_train, Y_train)\n",
    "\n",
    "Y_pred_19 = GBR_19.predict(X_test)\n",
    "mse = mean_squared_error(Y_test, Y_pred_19)\n",
    "print(\"The mean squared error (MSE) on test set: {:.4f}\".format(mse))\n",
    "\n",
    "# Neural Network"
   ]
  },
  {
   "cell_type": "markdown",
   "metadata": {},
   "source": [
    "# Run 20"
   ]
  },
  {
   "cell_type": "code",
   "execution_count": null,
   "metadata": {},
   "outputs": [],
   "source": [
    "# Gradient Boosting Regression\n",
    "def func(t):\n",
    "    return t.total_seconds()/60\n",
    "\n",
    "df_RUN_20['time_delta'] = df_RUN_20['Element ID'].apply(lambda x: x-df_RUN_20['Element ID'].min())\n",
    "df_RUN_20['time_delta'] = df_RUN_20['time_delta'].map(func)\n",
    "\n",
    "X_train, X_test, Y_train, Y_test = train_test_split(df_RUN_20[['time_delta']], df_RUN_20[['zigbee:21_zd_Temp']], test_size=0.2)\n",
    "GBR_20 = GradientBoostingRegressor(random_state=0)\n",
    "GBR_20.fit(X_train, Y_train)\n",
    "\n",
    "Y_pred_20 = GBR_20.predict(X_test)\n",
    "mse = mean_squared_error(Y_test, Y_pred_20)\n",
    "print(\"The mean squared error (MSE) on test set: {:.4f}\".format(mse))\n",
    "\n",
    "# Neural Network"
   ]
  },
  {
   "cell_type": "markdown",
   "metadata": {},
   "source": [
    "# Run 21"
   ]
  },
  {
   "cell_type": "code",
   "execution_count": 2,
   "metadata": {},
   "outputs": [
    {
     "name": "stderr",
     "output_type": "stream",
     "text": [
      "C:\\Users\\reza4\\AppData\\Local\\Packages\\PythonSoftwareFoundation.Python.3.9_qbz5n2kfra8p0\\LocalCache\\local-packages\\Python39\\site-packages\\sklearn\\ensemble\\_gb.py:437: DataConversionWarning: A column-vector y was passed when a 1d array was expected. Please change the shape of y to (n_samples, ), for example using ravel().\n",
      "  y = column_or_1d(y, warn=True)\n"
     ]
    },
    {
     "name": "stdout",
     "output_type": "stream",
     "text": [
      "The mean squared error (MSE) on test set: 0.0175\n"
     ]
    }
   ],
   "source": [
    "# Gradient Boosting Regression\n",
    "def func(t):\n",
    "    return t.total_seconds()/60\n",
    "\n",
    "df_RUN_21['time_delta'] = df_RUN_21['Element ID'].apply(lambda x: x-df_RUN_21['Element ID'].min())\n",
    "df_RUN_21['time_delta'] = df_RUN_21['time_delta'].map(func)\n",
    "\n",
    "X_train, X_test, Y_train, Y_test = train_test_split(df_RUN_21[['time_delta']], df_RUN_21[['zigbee:21_zd_Temp']], test_size=0.2)\n",
    "GBR_21 = GradientBoostingRegressor(random_state=0)\n",
    "GBR_21.fit(X_train, Y_train)\n",
    "\n",
    "Y_pred_21 = GBR_21.predict(X_test)\n",
    "mse = mean_squared_error(Y_test, Y_pred_21)\n",
    "print(\"The mean squared error (MSE) on test set: {:.4f}\".format(mse))\n",
    "\n",
    "# Neural Network"
   ]
  },
  {
   "cell_type": "markdown",
   "metadata": {},
   "source": [
    "# Results"
   ]
  },
  {
   "cell_type": "code",
   "execution_count": null,
   "metadata": {},
   "outputs": [],
   "source": []
  }
 ],
 "metadata": {
  "kernelspec": {
   "display_name": "Python 3",
   "language": "python",
   "name": "python3"
  },
  "language_info": {
   "codemirror_mode": {
    "name": "ipython",
    "version": 3
   },
   "file_extension": ".py",
   "mimetype": "text/x-python",
   "name": "python",
   "nbconvert_exporter": "python",
   "pygments_lexer": "ipython3",
   "version": "3.9.13"
  }
 },
 "nbformat": 4,
 "nbformat_minor": 2
}

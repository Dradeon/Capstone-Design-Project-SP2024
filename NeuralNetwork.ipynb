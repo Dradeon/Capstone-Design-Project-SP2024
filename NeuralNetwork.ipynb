{
 "cells": [
  {
   "cell_type": "markdown",
   "metadata": {},
   "source": [
    "# K-means Clustering"
   ]
  },
  {
   "cell_type": "code",
   "execution_count": 6,
   "metadata": {},
   "outputs": [],
   "source": [
    "import pandas as pd\n",
    "import numpy as np\n",
    "import matplotlib as plt\n",
    "import sklearn.cluster as sk\n",
    "\n",
    "# Import Data\n",
    "df_RUN_19 = pd.read_excel('test_data/RUN_19_TO_21_CLEANED.xlsx')\n",
    "df_RUN_21 = pd.read_excel('test_data/RUN_19_TO_21_CLEANED.xlsx',sheet_name='Run 21')\n",
    "\n",
    "model = sk.KMeans()\n"
   ]
  },
  {
   "cell_type": "markdown",
   "metadata": {},
   "source": [
    "# Neural Networks"
   ]
  },
  {
   "cell_type": "code",
   "execution_count": null,
   "metadata": {},
   "outputs": [],
   "source": [
    "import sklearn.neural_network as sk\n",
    "\n",
    "model = sk.MLPRegressor(hidden_layer_sizes=(10,10),max_iter=1000)\n"
   ]
  }
 ],
 "metadata": {
  "kernelspec": {
   "display_name": "Python 3",
   "language": "python",
   "name": "python3"
  },
  "language_info": {
   "codemirror_mode": {
    "name": "ipython",
    "version": 3
   },
   "file_extension": ".py",
   "mimetype": "text/x-python",
   "name": "python",
   "nbconvert_exporter": "python",
   "pygments_lexer": "ipython3",
   "version": "3.9.13"
  }
 },
 "nbformat": 4,
 "nbformat_minor": 2
}
